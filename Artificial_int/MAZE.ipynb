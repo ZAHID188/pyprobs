{
  "nbformat": 4,
  "nbformat_minor": 0,
  "metadata": {
    "colab": {
      "provenance": [],
      "authorship_tag": "ABX9TyMs1umPMP4gOaYtV8lWNogx",
      "include_colab_link": true
    },
    "kernelspec": {
      "name": "python3",
      "display_name": "Python 3"
    },
    "language_info": {
      "name": "python"
    }
  },
  "cells": [
    {
      "cell_type": "markdown",
      "metadata": {
        "id": "view-in-github",
        "colab_type": "text"
      },
      "source": [
        "<a href=\"https://colab.research.google.com/github/ZAHID188/pyprobs/blob/master/Artificial_int/MAZE.ipynb\" target=\"_parent\"><img src=\"https://colab.research.google.com/assets/colab-badge.svg\" alt=\"Open In Colab\"/></a>"
      ]
    },
    {
      "cell_type": "markdown",
      "source": [
        "\n",
        "---\n",
        "Learn more:\n",
        "1. [maze.py - CS50 CDN](https://cdn.cs50.net/ai/2020/spring/lectures/0/src0/maze.py)\n",
        "2. [GitHub - SriAmin/Harvard-CS50-AI-Projects: These are the project files submitted for Harvard's CS50 Introduction to Artificial Intelligence](https://github.com/SriAmin/Harvard-CS50-AI-Projects)\n",
        "3. [Lecture 0 - CS50's Introduction to Artificial Intelligence with Python](https://cs50.harvard.edu/ai/2023/notes/0/)"
      ],
      "metadata": {
        "id": "CLtwm0zilhot"
      }
    },
    {
      "cell_type": "code",
      "source": [
        "import sys"
      ],
      "metadata": {
        "id": "B1txU4uIllK6"
      },
      "execution_count": 2,
      "outputs": []
    },
    {
      "cell_type": "markdown",
      "source": [
        "NODE\n"
      ],
      "metadata": {
        "id": "oAsRATGvmC3r"
      }
    },
    {
      "cell_type": "code",
      "source": [
        "class Node():\n",
        "    def __init__(self, state, parent, action):\n",
        "        self.state = state\n",
        "        self.parent = parent\n",
        "        self.action = action"
      ],
      "metadata": {
        "id": "6Y2q8MQ9mEG6"
      },
      "execution_count": 1,
      "outputs": []
    },
    {
      "cell_type": "markdown",
      "source": [
        "# Stack Frontier\n"
      ],
      "metadata": {
        "id": "LCTc-1U-mh20"
      }
    },
    {
      "cell_type": "markdown",
      "source": [
        "![stack.webp](data:image/webp;base64,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)\n",
        "# MAZE"
      ],
      "metadata": {
        "id": "OqanPDmZX75e"
      }
    },
    {
      "cell_type": "code",
      "source": [
        "class StackFrontier():\n",
        "    def __init__(self):\n",
        "        self.frontier = [] #list\n",
        "\n",
        "    def add(self, node):\n",
        "        self.frontier.append(node)\n",
        "\n",
        "    def contains_state(self, state):\n",
        "        return any(node.state == state for node in self.frontier)\n",
        "\n",
        "    def empty(self):\n",
        "        return len(self.frontier) == 0\n",
        "\n",
        "    def remove(self):\n",
        "        if self.empty():\n",
        "            raise Exception(\"empty frontier\")\n",
        "        else:\n",
        "            node = self.frontier[-1]\n",
        "            self.frontier = self.frontier[:-1]\n",
        "            return node"
      ],
      "metadata": {
        "id": "SUEUK7cPmnCD"
      },
      "execution_count": null,
      "outputs": []
    }
  ]
}