{
  "nbformat": 4,
  "nbformat_minor": 0,
  "metadata": {
    "colab": {
      "provenance": [],
      "collapsed_sections": [
        "BYKSUen-SZ9g"
      ],
      "authorship_tag": "ABX9TyOMHXncthA/VezmhfX9lwCe",
      "include_colab_link": true
    },
    "kernelspec": {
      "name": "python3",
      "display_name": "Python 3"
    },
    "language_info": {
      "name": "python"
    }
  },
  "cells": [
    {
      "cell_type": "markdown",
      "metadata": {
        "id": "view-in-github",
        "colab_type": "text"
      },
      "source": [
        "<a href=\"https://colab.research.google.com/github/ZAHID188/pyprobs/blob/master/NetworkingPy4e/NETWORKING_py4e.ipynb\" target=\"_parent\"><img src=\"https://colab.research.google.com/assets/colab-badge.svg\" alt=\"Open In Colab\"/></a>"
      ]
    },
    {
      "cell_type": "markdown",
      "source": [
        "#Retrieving an image over HTTP"
      ],
      "metadata": {
        "id": "BYKSUen-SZ9g"
      }
    },
    {
      "cell_type": "code",
      "source": [
        "import socket\n",
        "import time\n",
        "\n",
        "HOST = 'data.pr4e.org'\n",
        "PORT = 80\n",
        "mysock = socket.socket(socket.AF_INET, socket.SOCK_STREAM)\n",
        "mysock.connect((HOST, PORT))\n",
        "mysock.sendall(b'GET http://data.pr4e.org/cover3.jpg HTTP/1.0\\r\\n\\r\\n')\n",
        "count = 0\n",
        "picture = b\"\"\n",
        "\n",
        "while True:\n",
        "    data = mysock.recv(5120)\n",
        "    if len(data) < 1: break\n",
        "    #time.sleep(0.25)\n",
        "    count = count + len(data)\n",
        "    print(len(data), count)\n",
        "    picture = picture + data\n",
        "\n",
        "mysock.close()\n",
        "\n",
        "# Look for the end of the header (2 CRLF)\n",
        "pos = picture.find(b\"\\r\\n\\r\\n\")\n",
        "print('Header length', pos)\n",
        "print(picture[:pos].decode())\n",
        "\n",
        "# Skip past the header and save the picture data\n",
        "picture = picture[pos+4:]\n",
        "fhand = open(\"stuff.jpg\", \"wb\")\n",
        "fhand.write(picture)\n",
        "fhand.close()"
      ],
      "metadata": {
        "id": "5MMzlBSYR00c"
      },
      "execution_count": null,
      "outputs": []
    },
    {
      "cell_type": "markdown",
      "source": [
        "# urllinks"
      ],
      "metadata": {
        "id": "4lOkXLS_pz8y"
      }
    },
    {
      "cell_type": "markdown",
      "source": [
        "code to read the romeo.txt file from the web using urllib is as follows"
      ],
      "metadata": {
        "id": "9vUWib7JSohB"
      }
    },
    {
      "cell_type": "code",
      "source": [
        "import urllib.request\n",
        "\n",
        "fhand = urllib.request.urlopen('http://data.pr4e.org/romeo.txt')\n",
        "for line in fhand:\n",
        "    print(line.decode().strip())"
      ],
      "metadata": {
        "id": "vOWVG5YxSdYp"
      },
      "execution_count": null,
      "outputs": []
    },
    {
      "cell_type": "code",
      "source": [
        "import urllib.request, urllib.parse, urllib.error\n",
        "\n",
        "fhand = urllib.request.urlopen('http://data.pr4e.org/romeo.txt')\n",
        "\n",
        "counts = dict()\n",
        "for line in fhand:\n",
        "    words = line.decode().split()\n",
        "    for word in words:\n",
        "        counts[word] = counts.get(word, 0) + 1\n",
        "print(counts)"
      ],
      "metadata": {
        "id": "FS1stTPOS9Mt"
      },
      "execution_count": null,
      "outputs": []
    },
    {
      "cell_type": "markdown",
      "source": [
        "**Reading binary files using urllib**"
      ],
      "metadata": {
        "id": "Nozzk-6HTCGI"
      }
    },
    {
      "cell_type": "code",
      "source": [
        "import urllib.request, urllib.parse, urllib.error\n",
        "\n",
        "img = urllib.request.urlopen('http://data.pr4e.org/cover3.jpg').read()\n",
        "fhand = open('cover3.jpg', 'wb')\n",
        "fhand.write(img) #check the same directory there is a picture\n",
        "fhand.close()"
      ],
      "metadata": {
        "id": "dlUKU69XTEFI"
      },
      "execution_count": null,
      "outputs": []
    },
    {
      "cell_type": "code",
      "source": [
        "import urllib.request, urllib.parse, urllib.error\n",
        "\n",
        "img = urllib.request.urlopen('http://data.pr4e.org/cover3.jpg')\n",
        "fhand = open('cover3.jpg', 'wb')\n",
        "size = 0\n",
        "while True:\n",
        "    info = img.read(100000)\n",
        "    if len(info) < 1: break\n",
        "    size = size + len(info)\n",
        "    fhand.write(info)\n",
        "\n",
        "print(size, 'characters copied.')\n",
        "fhand.close()"
      ],
      "metadata": {
        "colab": {
          "base_uri": "https://localhost:8080/"
        },
        "id": "Rqgsz6h4TphG",
        "outputId": "908a16fc-f557-4941-e013-d4e8ba339b2c"
      },
      "execution_count": null,
      "outputs": [
        {
          "output_type": "stream",
          "name": "stdout",
          "text": [
            "230210 characters copied.\n"
          ]
        }
      ]
    },
    {
      "cell_type": "markdown",
      "source": [
        "urllink2"
      ],
      "metadata": {
        "id": "g0QwEPHATIFM"
      }
    },
    {
      "cell_type": "code",
      "source": [
        "# To run this, download the BeautifulSoup zip file\n",
        "# http://www.py4e.com/code3/bs4.zip\n",
        "# and unzip it in the same directory as this file\n",
        "\n",
        "from urllib.request import urlopen\n",
        "from bs4 import BeautifulSoup\n",
        "import ssl\n",
        "\n",
        "# Ignore SSL certificate errors\n",
        "ctx = ssl.create_default_context()\n",
        "ctx.check_hostname = False\n",
        "ctx.verify_mode = ssl.CERT_NONE\n",
        "\n",
        "url = input('Enter - ')\n",
        "html = urlopen(url, context=ctx).read()\n",
        "soup = BeautifulSoup(html, \"html.parser\")\n",
        "\n",
        "# Retrieve all of the anchor tags\n",
        "tags = soup('a')\n",
        "for tag in tags:\n",
        "    # Look at the parts of a tag\n",
        "    print('TAG:', tag)\n",
        "    print('URL:', tag.get('href', None))\n",
        "    print('Contents:', tag.contents[0])\n",
        "    print('Attrs:', tag.attrs)\n"
      ],
      "metadata": {
        "colab": {
          "base_uri": "https://localhost:8080/"
        },
        "id": "jYf0cMPvTJ7K",
        "outputId": "9ac15e9f-85c9-4ecf-bf72-12eea0e8e3c9"
      },
      "execution_count": null,
      "outputs": [
        {
          "name": "stdout",
          "output_type": "stream",
          "text": [
            "Enter - http://py4e-data.dr-chuck.net/comments_42.html\n"
          ]
        }
      ]
    },
    {
      "cell_type": "code",
      "source": [
        "# To run this, download the BeautifulSoup zip file\n",
        "# http://www.py4e.com/code3/bs4.zip\n",
        "# and unzip it in the same directory as this file\n",
        "\n",
        "import urllib.request, urllib.parse, urllib.error\n",
        "from bs4 import BeautifulSoup\n",
        "import ssl\n",
        "\n",
        "# Ignore SSL certificate errors\n",
        "ctx = ssl.create_default_context()\n",
        "ctx.check_hostname = False\n",
        "ctx.verify_mode = ssl.CERT_NONE\n",
        "\n",
        "url = input('Enter - ')\n",
        "html = urllib.request.urlopen(url, context=ctx).read()\n",
        "soup = BeautifulSoup(html, 'html.parser')\n",
        "\n",
        "# Retrieve all of the anchor tags\n",
        "tags = soup('a')\n",
        "for tag in tags:\n",
        "    print(tag.get('href', None))\n"
      ],
      "metadata": {
        "id": "EUICt7jHp4rC",
        "colab": {
          "base_uri": "https://localhost:8080/",
          "height": 356
        },
        "outputId": "3e8489e1-f91f-4cb6-cc49-84ca56964072"
      },
      "execution_count": null,
      "outputs": [
        {
          "output_type": "error",
          "ename": "KeyboardInterrupt",
          "evalue": "Interrupted by user",
          "traceback": [
            "\u001b[0;31m---------------------------------------------------------------------------\u001b[0m",
            "\u001b[0;31mKeyboardInterrupt\u001b[0m                         Traceback (most recent call last)",
            "\u001b[0;32m<ipython-input-1-56922ed34b0a>\u001b[0m in \u001b[0;36m<cell line: 14>\u001b[0;34m()\u001b[0m\n\u001b[1;32m     12\u001b[0m \u001b[0mctx\u001b[0m\u001b[0;34m.\u001b[0m\u001b[0mverify_mode\u001b[0m \u001b[0;34m=\u001b[0m \u001b[0mssl\u001b[0m\u001b[0;34m.\u001b[0m\u001b[0mCERT_NONE\u001b[0m\u001b[0;34m\u001b[0m\u001b[0;34m\u001b[0m\u001b[0m\n\u001b[1;32m     13\u001b[0m \u001b[0;34m\u001b[0m\u001b[0m\n\u001b[0;32m---> 14\u001b[0;31m \u001b[0murl\u001b[0m \u001b[0;34m=\u001b[0m \u001b[0minput\u001b[0m\u001b[0;34m(\u001b[0m\u001b[0;34m'Enter - '\u001b[0m\u001b[0;34m)\u001b[0m\u001b[0;34m\u001b[0m\u001b[0;34m\u001b[0m\u001b[0m\n\u001b[0m\u001b[1;32m     15\u001b[0m \u001b[0mhtml\u001b[0m \u001b[0;34m=\u001b[0m \u001b[0murllib\u001b[0m\u001b[0;34m.\u001b[0m\u001b[0mrequest\u001b[0m\u001b[0;34m.\u001b[0m\u001b[0murlopen\u001b[0m\u001b[0;34m(\u001b[0m\u001b[0murl\u001b[0m\u001b[0;34m,\u001b[0m \u001b[0mcontext\u001b[0m\u001b[0;34m=\u001b[0m\u001b[0mctx\u001b[0m\u001b[0;34m)\u001b[0m\u001b[0;34m.\u001b[0m\u001b[0mread\u001b[0m\u001b[0;34m(\u001b[0m\u001b[0;34m)\u001b[0m\u001b[0;34m\u001b[0m\u001b[0;34m\u001b[0m\u001b[0m\n\u001b[1;32m     16\u001b[0m \u001b[0msoup\u001b[0m \u001b[0;34m=\u001b[0m \u001b[0mBeautifulSoup\u001b[0m\u001b[0;34m(\u001b[0m\u001b[0mhtml\u001b[0m\u001b[0;34m,\u001b[0m \u001b[0;34m'html.parser'\u001b[0m\u001b[0;34m)\u001b[0m\u001b[0;34m\u001b[0m\u001b[0;34m\u001b[0m\u001b[0m\n",
            "\u001b[0;32m/usr/local/lib/python3.10/dist-packages/ipykernel/kernelbase.py\u001b[0m in \u001b[0;36mraw_input\u001b[0;34m(self, prompt)\u001b[0m\n\u001b[1;32m    849\u001b[0m                 \u001b[0;34m\"raw_input was called, but this frontend does not support input requests.\"\u001b[0m\u001b[0;34m\u001b[0m\u001b[0;34m\u001b[0m\u001b[0m\n\u001b[1;32m    850\u001b[0m             )\n\u001b[0;32m--> 851\u001b[0;31m         return self._input_request(str(prompt),\n\u001b[0m\u001b[1;32m    852\u001b[0m             \u001b[0mself\u001b[0m\u001b[0;34m.\u001b[0m\u001b[0m_parent_ident\u001b[0m\u001b[0;34m,\u001b[0m\u001b[0;34m\u001b[0m\u001b[0;34m\u001b[0m\u001b[0m\n\u001b[1;32m    853\u001b[0m             \u001b[0mself\u001b[0m\u001b[0;34m.\u001b[0m\u001b[0m_parent_header\u001b[0m\u001b[0;34m,\u001b[0m\u001b[0;34m\u001b[0m\u001b[0;34m\u001b[0m\u001b[0m\n",
            "\u001b[0;32m/usr/local/lib/python3.10/dist-packages/ipykernel/kernelbase.py\u001b[0m in \u001b[0;36m_input_request\u001b[0;34m(self, prompt, ident, parent, password)\u001b[0m\n\u001b[1;32m    893\u001b[0m             \u001b[0;32mexcept\u001b[0m \u001b[0mKeyboardInterrupt\u001b[0m\u001b[0;34m:\u001b[0m\u001b[0;34m\u001b[0m\u001b[0;34m\u001b[0m\u001b[0m\n\u001b[1;32m    894\u001b[0m                 \u001b[0;31m# re-raise KeyboardInterrupt, to truncate traceback\u001b[0m\u001b[0;34m\u001b[0m\u001b[0;34m\u001b[0m\u001b[0m\n\u001b[0;32m--> 895\u001b[0;31m                 \u001b[0;32mraise\u001b[0m \u001b[0mKeyboardInterrupt\u001b[0m\u001b[0;34m(\u001b[0m\u001b[0;34m\"Interrupted by user\"\u001b[0m\u001b[0;34m)\u001b[0m \u001b[0;32mfrom\u001b[0m \u001b[0;32mNone\u001b[0m\u001b[0;34m\u001b[0m\u001b[0;34m\u001b[0m\u001b[0m\n\u001b[0m\u001b[1;32m    896\u001b[0m             \u001b[0;32mexcept\u001b[0m \u001b[0mException\u001b[0m \u001b[0;32mas\u001b[0m \u001b[0me\u001b[0m\u001b[0;34m:\u001b[0m\u001b[0;34m\u001b[0m\u001b[0;34m\u001b[0m\u001b[0m\n\u001b[1;32m    897\u001b[0m                 \u001b[0mself\u001b[0m\u001b[0;34m.\u001b[0m\u001b[0mlog\u001b[0m\u001b[0;34m.\u001b[0m\u001b[0mwarning\u001b[0m\u001b[0;34m(\u001b[0m\u001b[0;34m\"Invalid Message:\"\u001b[0m\u001b[0;34m,\u001b[0m \u001b[0mexc_info\u001b[0m\u001b[0;34m=\u001b[0m\u001b[0;32mTrue\u001b[0m\u001b[0;34m)\u001b[0m\u001b[0;34m\u001b[0m\u001b[0;34m\u001b[0m\u001b[0m\n",
            "\u001b[0;31mKeyboardInterrupt\u001b[0m: Interrupted by user"
          ]
        }
      ]
    },
    {
      "cell_type": "code",
      "source": [
        "# Search for link values within URL input\n",
        "import urllib.request, urllib.parse, urllib.error\n",
        "import re\n",
        "import ssl\n",
        "\n",
        "# Ignore SSL certificate errors\n",
        "ctx = ssl.create_default_context()\n",
        "ctx.check_hostname = False\n",
        "ctx.verify_mode = ssl.CERT_NONE\n",
        "\n",
        "url = input('Enter - ')\n",
        "html = urllib.request.urlopen(url, context=ctx).read()\n",
        "links = re.findall(b'href=\"(http[s]?://.*?)\"', html)\n",
        "for link in links:\n",
        "    print(link.decode())"
      ],
      "metadata": {
        "id": "gHfRw7liwlVm"
      },
      "execution_count": null,
      "outputs": []
    },
    {
      "cell_type": "markdown",
      "source": [
        "#Exercise"
      ],
      "metadata": {
        "id": "Uzh2NMTBx2mi"
      }
    },
    {
      "cell_type": "markdown",
      "source": [
        "##Exercise 1: Change the socket program socket1.py to prompt the user for the URL so it can read any web page.\n",
        "\n",
        "You can use split('/') to break the URL into its component parts so you can extract the host name for the socket connect call. Add error checking using try and except to handle the condition where the user enters an improperly formatted or non-existent URL.\n",
        "```\n",
        "\n",
        "import socket\n",
        "\n",
        "mysock = socket.socket(socket.AF_INET, socket.SOCK_STREAM)\n",
        "mysock.connect(('data.pr4e.org', 80))\n",
        "cmd = 'GET http://data.pr4e.org/romeo.txt HTTP/1.0\\r\\n\\r\\n'.encode()\n",
        "mysock.send(cmd)\n",
        "\n",
        "while True:\n",
        "    data = mysock.recv(512)\n",
        "    if len(data) < 1:\n",
        "        break\n",
        "    print(data.decode(),end='')\n",
        "\n",
        "mysock.close()\n",
        "```"
      ],
      "metadata": {
        "id": "6QoDxD0hDpQj"
      }
    },
    {
      "cell_type": "code",
      "source": [
        "import socket\n",
        "\n",
        "mysock = socket.socket(socket.AF_INET, socket.SOCK_STREAM)\n",
        "mysock.connect(('data.pr4e.org', 80))\n",
        "cmd = 'GET http://data.pr4e.org/intro-short.txt HTTP/1.0\\r\\n\\r\\n'.encode()\n",
        "mysock.send(cmd)\n",
        "\n",
        "while True:\n",
        "    data = mysock.recv(512)\n",
        "    if len(data) < 1:\n",
        "        break\n",
        "    print(data.decode(),end='')\n",
        "\n",
        "mysock.close()\n"
      ],
      "metadata": {
        "id": "L6LViOGmx6ca",
        "colab": {
          "base_uri": "https://localhost:8080/"
        },
        "outputId": "866f32a8-afc0-4ee7-8d7a-4b957cbac68e"
      },
      "execution_count": null,
      "outputs": [
        {
          "output_type": "stream",
          "name": "stdout",
          "text": [
            "HTTP/1.1 200 OK\r\n",
            "Date: Mon, 15 Apr 2024 10:25:33 GMT\r\n",
            "Server: Apache/2.4.52 (Ubuntu)\r\n",
            "Last-Modified: Sat, 13 May 2017 11:22:22 GMT\r\n",
            "ETag: \"1d3-54f6609240717\"\r\n",
            "Accept-Ranges: bytes\r\n",
            "Content-Length: 467\r\n",
            "Cache-Control: max-age=0, no-cache, no-store, must-revalidate\r\n",
            "Pragma: no-cache\r\n",
            "Expires: Wed, 11 Jan 1984 05:00:00 GMT\r\n",
            "Connection: close\r\n",
            "Content-Type: text/plain\r\n",
            "\r\n",
            "Why should you learn to write programs?\n",
            "\n",
            "Writing programs (or programming) is a very creative \n",
            "and rewarding activity.  You can write programs for \n",
            "many reasons, ranging from making your living to solving\n",
            "a difficult data analysis problem to having fun to helping\n",
            "someone else solve a problem.  This book assumes that \n",
            "everyone needs to know how to program, and that once \n",
            "you know how to program you will figure out what you want \n",
            "to do with your newfound skills.  \n"
          ]
        }
      ]
    },
    {
      "cell_type": "code",
      "source": [
        "url = str(input('Enter website- '))\n",
        "murl=url.split('/')\n",
        "murl[2]\n"
      ],
      "metadata": {
        "colab": {
          "base_uri": "https://localhost:8080/",
          "height": 53
        },
        "id": "78-xx1CiFmEj",
        "outputId": "b5aa5b89-1a7d-4bbc-c1b4-5bebd26e962f"
      },
      "execution_count": null,
      "outputs": [
        {
          "name": "stdout",
          "output_type": "stream",
          "text": [
            "Enter website- http://data.pr4e.org/romeo.txt\n"
          ]
        },
        {
          "output_type": "execute_result",
          "data": {
            "text/plain": [
              "'data.pr4e.org'"
            ],
            "application/vnd.google.colaboratory.intrinsic+json": {
              "type": "string"
            }
          },
          "metadata": {},
          "execution_count": 3
        }
      ]
    },
    {
      "cell_type": "code",
      "source": [
        "import socket\n",
        "\n",
        "url = input(\"Enter a URL: \")\n",
        "try:\n",
        "    host = url.split('/')[2]\n",
        "    mysock = socket.socket(socket.AF_INET, socket.SOCK_STREAM)\n",
        "    mysock.connect((host, 80))\n",
        "    cmd = f'GET {url} HTTP/1.0\\r\\n\\r\\n'.encode()\n",
        "    mysock.send(cmd)\n",
        "\n",
        "    while True:\n",
        "        data = mysock.recv(512)\n",
        "        if len(data) < 1:\n",
        "            break\n",
        "        print(data.decode(), end='')\n",
        "\n",
        "    mysock.close()\n",
        "except:\n",
        "    print(\"Invalid URL or unable to connect to the server.\")"
      ],
      "metadata": {
        "colab": {
          "base_uri": "https://localhost:8080/"
        },
        "id": "eyOgQ7VMsfVq",
        "outputId": "0f0533fe-b022-4491-f4e7-fc21f70efea9"
      },
      "execution_count": null,
      "outputs": [
        {
          "output_type": "stream",
          "name": "stdout",
          "text": [
            "Enter a URL: http://data.pr4e.org/romeo.txt\n",
            "HTTP/1.1 200 OK\n",
            "Date: Fri, 12 Apr 2024 09:44:56 GMT\n",
            "Server: Apache/2.4.52 (Ubuntu)\n",
            "Last-Modified: Sat, 13 May 2017 11:22:22 GMT\n",
            "ETag: \"a7-54f6609245537\"\n",
            "Accept-Ranges: bytes\n",
            "Content-Length: 167\n",
            "Cache-Control: max-age=0, no-cache, no-store, must-revalidate\n",
            "Pragma: no-cache\n",
            "Expires: Wed, 11 Jan 1984 05:00:00 GMT\n",
            "Connection: close\n",
            "Content-Type: text/plain\n",
            "\n",
            "But soft what light through yonder window breaks\n",
            "It is the east and Juliet is the sun\n",
            "Arise fair sun and kill the envious moon\n",
            "Who is already sick and pale with grief\n"
          ]
        }
      ]
    },
    {
      "cell_type": "markdown",
      "source": [
        "## Exercise 2: Change your socket program so that it counts the number of characters it has received and stops displaying any text after it has shown 3000 characters. The program should retrieve the entire document and count the total number of characters and display the count of the number of characters at the end of the document."
      ],
      "metadata": {
        "id": "kpXTFRZiso8B"
      }
    },
    {
      "cell_type": "code",
      "source": [
        "import socket\n",
        "\n",
        "url = input(\"Enter a URL: \")\n",
        "try:\n",
        "    host = url.split('/')[2]\n",
        "    mysock = socket.socket(socket.AF_INET, socket.SOCK_STREAM)\n",
        "    mysock.connect((host, 80))\n",
        "    cmd = f'GET {url} HTTP/1.0\\r\\n\\r\\n'.encode()\n",
        "    mysock.send(cmd)\n",
        "\n",
        "    received_chars = 0\n",
        "    while True:\n",
        "        data = mysock.recv(512)\n",
        "        if len(data) < 1:\n",
        "            break\n",
        "        received_chars += len(data)\n",
        "        if received_chars <= 3000:\n",
        "            print(data.decode(), end='')\n",
        "\n",
        "    mysock.close()\n",
        "\n",
        "    print(\"\\n\\nTotal number of characters received:\", received_chars)\n",
        "\n",
        "except:\n",
        "    print(\"Invalid URL or unable to connect to the server.\")"
      ],
      "metadata": {
        "id": "M-hd5xicsrq7"
      },
      "execution_count": null,
      "outputs": []
    },
    {
      "cell_type": "markdown",
      "source": [
        "## Exercise 3: Use urllib to replicate the previous exercise of (1) retrieving the document from a URL, (2) displaying up to 3000 characters, and (3) counting the overall number of characters in the document. Don’t worry about the headers for this exercise, simply show the first 3000 characters of the document contents."
      ],
      "metadata": {
        "id": "Q9Louu7ZtBIK"
      }
    },
    {
      "cell_type": "code",
      "source": [
        "import urllib.request\n",
        "\n",
        "url = input(\"Enter a URL: \")\n",
        "try:\n",
        "    response = urllib.request.urlopen(url)\n",
        "    data = response.read().decode()\n",
        "\n",
        "    print(data[:3000])\n",
        "    print(\"\\n\\nTotal number of characters:\", len(data))\n",
        "\n",
        "except:\n",
        "    print(\"Invalid URL or unable to retrieve the document.\")"
      ],
      "metadata": {
        "colab": {
          "base_uri": "https://localhost:8080/"
        },
        "id": "MZa2SOiCtCra",
        "outputId": "b07d241a-3e23-4e95-91c9-3817a9fa17eb"
      },
      "execution_count": null,
      "outputs": [
        {
          "output_type": "stream",
          "name": "stdout",
          "text": [
            "Enter a URL: http://data.pr4e.org/romeo.txt\n",
            "But soft what light through yonder window breaks\n",
            "It is the east and Juliet is the sun\n",
            "Arise fair sun and kill the envious moon\n",
            "Who is already sick and pale with grief\n",
            "\n",
            "\n",
            "\n",
            "Total number of characters: 167\n"
          ]
        }
      ]
    },
    {
      "cell_type": "markdown",
      "source": [
        "## Exercise 4: Change the urllinks.py program to extract and count paragraph (p) tags from the retrieved HTML document and display the count of the paragraphs as the output of your program. Do not display the paragraph text, only count them. Test your program on several small web pages as well as some larger web pages."
      ],
      "metadata": {
        "id": "zq1zSqUOtP96"
      }
    },
    {
      "cell_type": "code",
      "source": [
        "import urllib.request\n",
        "from bs4 import BeautifulSoup\n",
        "\n",
        "url = input(\"Enter a URL: \")\n",
        "try:\n",
        "    response = urllib.request.urlopen(url)\n",
        "    html = response.read()\n",
        "\n",
        "    soup = BeautifulSoup(html, 'html.parser')\n",
        "    paragraphs = soup.find_all('p')\n",
        "\n",
        "    paragraph_count = len(paragraphs)\n",
        "    print(\"Number of paragraphs:\", paragraph_count)\n",
        "\n",
        "except:\n",
        "    print(\"Invalid URL or unable to retrieve the document.\")"
      ],
      "metadata": {
        "colab": {
          "base_uri": "https://localhost:8080/"
        },
        "id": "g4reD4pWtSMg",
        "outputId": "e49ca32f-4335-472c-cc49-f73bccb2ac56"
      },
      "execution_count": null,
      "outputs": [
        {
          "output_type": "stream",
          "name": "stdout",
          "text": [
            "Enter a URL: https://www.google.com\n",
            "Number of paragraphs: 1\n"
          ]
        }
      ]
    },
    {
      "cell_type": "markdown",
      "source": [
        "## Exercise 5: (Advanced) Change the socket program so that it only shows data after the headers and a blank line have been received. Remember that recv receives characters (newlines and all), not lines."
      ],
      "metadata": {
        "id": "a2VbC5wlthP_"
      }
    },
    {
      "cell_type": "code",
      "source": [
        "import socket\n",
        "\n",
        "url = input(\"Enter a URL: \")\n",
        "try:\n",
        "    host = url.split('/')[2]\n",
        "    mysock = socket.socket(socket.AF_INET, socket.SOCK_STREAM)\n",
        "    mysock.connect((host, 80))\n",
        "    cmd = f'GET {url} HTTP/1.0\\r\\n\\r\\n'.encode()\n",
        "    mysock.send(cmd)\n",
        "\n",
        "    received_headers = False\n",
        "    while True:\n",
        "        data = mysock.recv(512)\n",
        "        if len(data) < 1:\n",
        "            break\n",
        "        if not received_headers:\n",
        "            headers_end = data.find(b'\\r\\n\\r\\n')\n",
        "            if headers_end == -1:\n",
        "                continue\n",
        "            data = data[headers_end + 4:]\n",
        "            received_headers = True\n",
        "        print(data.decode(), end='')\n",
        "\n",
        "    mysock.close()\n",
        "\n",
        "except:\n",
        "    print(\"Invalid URL or unable to connect to the\")"
      ],
      "metadata": {
        "colab": {
          "base_uri": "https://localhost:8080/"
        },
        "id": "rp4XgJTFtiTn",
        "outputId": "7243aed8-3f90-49ce-e4fb-6faeb005efbc"
      },
      "execution_count": null,
      "outputs": [
        {
          "output_type": "stream",
          "name": "stdout",
          "text": [
            "Enter a URL: http://data.pr4e.org/romeo.txt\n",
            "But soft what light through yonder window breaks\n",
            "It is the east and Juliet is the sun\n",
            "Arise fair sun and kill the envious moon\n",
            "Who is already sick and pale with grief\n"
          ]
        }
      ]
    },
    {
      "cell_type": "markdown",
      "source": [
        "# autograder 2  >> urllinks2.py"
      ],
      "metadata": {
        "id": "UB08dsAoUd0S"
      }
    },
    {
      "cell_type": "code",
      "source": [
        "# To run this, download the BeautifulSoup zip file\n",
        "# http://www.py4e.com/code3/bs4.zip\n",
        "# and unzip it in the same directory as this file\n",
        "\n",
        "from urllib.request import urlopen\n",
        "from bs4 import BeautifulSoup\n",
        "import ssl\n",
        "\n",
        "# Ignore SSL certificate errors\n",
        "ctx = ssl.create_default_context()\n",
        "ctx.check_hostname = False\n",
        "ctx.verify_mode = ssl.CERT_NONE\n",
        "\n",
        "url = input('Enter - ')\n",
        "html = urlopen(url, context=ctx).read()\n",
        "soup = BeautifulSoup(html, \"html.parser\")\n",
        "\n",
        "# Retrieve all of the anchor tags\n",
        "tags = soup('span')\n",
        "sum=0\n",
        "for tag in tags:\n",
        "    num=int(tag.contents[0])\n",
        "    sum=num+sum\n",
        "print(sum)"
      ],
      "metadata": {
        "colab": {
          "base_uri": "https://localhost:8080/"
        },
        "id": "meGo_vjKUg__",
        "outputId": "70b87033-0fc9-4eab-e1d6-76422cf745bb"
      },
      "execution_count": null,
      "outputs": [
        {
          "output_type": "stream",
          "name": "stdout",
          "text": [
            "Enter -  http://py4e-data.dr-chuck.net/comments_1389916.html\n",
            "2771\n"
          ]
        }
      ]
    },
    {
      "cell_type": "markdown",
      "source": [
        "## autograder 3"
      ],
      "metadata": {
        "id": "yFvGxm_1Zjba"
      }
    },
    {
      "cell_type": "markdown",
      "source": [
        "##urllinks.py\n",
        "```\n",
        "# To run this, download the BeautifulSoup zip file\n",
        "# http://www.py4e.com/code3/bs4.zip\n",
        "# and unzip it in the same directory as this file\n",
        "\n",
        "import urllib.request, urllib.parse, urllib.error\n",
        "from bs4 import BeautifulSoup\n",
        "import ssl\n",
        "\n",
        "# Ignore SSL certificate errors\n",
        "ctx = ssl.create_default_context()\n",
        "ctx.check_hostname = False\n",
        "ctx.verify_mode = ssl.CERT_NONE\n",
        "\n",
        "url = input('Enter - ')\n",
        "html = urllib.request.urlopen(url, context=ctx).read()\n",
        "soup = BeautifulSoup(html, 'html.parser')\n",
        "\n",
        "# Retrieve all of the anchor tags\n",
        "tags = soup('a')\n",
        "for tag in tags:\n",
        "    print(tag.get('href', None))\n",
        "\n",
        "```"
      ],
      "metadata": {
        "id": "j2Fan20TNuT8"
      }
    },
    {
      "cell_type": "code",
      "source": [
        "# To run this, download the BeautifulSoup zip file\n",
        "# http://www.py4e.com/code3/bs4.zip\n",
        "# and unzip it in the same directory as this file\n",
        "\n",
        "import urllib.request, urllib.parse, urllib.error\n",
        "from bs4 import BeautifulSoup\n",
        "import ssl\n",
        "\n",
        "# Ignore SSL certificate errors\n",
        "ctx = ssl.create_default_context()\n",
        "ctx.check_hostname = False\n",
        "ctx.verify_mode = ssl.CERT_NONE\n",
        "\n",
        "# url = input('Enter - ')\n",
        "# url = 'http://py4e-data.dr-chuck.net/known_by_Fikret.html'\n",
        "\n",
        "def urlget(url):\n",
        "\n",
        "  html = urllib.request.urlopen(url, context=ctx).read()\n",
        "  soup = BeautifulSoup(html, 'html.parser')\n",
        "\n",
        "  # Retrieve all of the anchor tags\n",
        "  count=0\n",
        "  stoppoint=0\n",
        "  tags = soup('a')\n",
        "  for tag in tags:\n",
        "    templist=[]\n",
        "    link=tag.get('href', None)\n",
        "    count=count+1\n",
        "    if count==3:\n",
        "      print(url)\n",
        "      print(count,link)\n",
        "      if stoppoint==4:\n",
        "        break\n",
        "      else:\n",
        "        urlget(link)\n",
        "        stoppoint+=1\n",
        "      break\n",
        "    print(count)\n",
        "\n",
        "urlget('http://py4e-data.dr-chuck.net/known_by_Fikret.html')\n",
        "    # list_ofLink.append(tag.get('href', None))\n",
        "# print(list_ofLink[3])"
      ],
      "metadata": {
        "id": "nJJHaqpVN7SG"
      },
      "execution_count": null,
      "outputs": []
    },
    {
      "cell_type": "code",
      "source": [
        "import urllib.request\n",
        "from bs4 import BeautifulSoup\n",
        "import ssl\n",
        "\n",
        "# Ignore SSL certificate errors\n",
        "ctx = ssl.create_default_context()\n",
        "ctx.check_hostname = False\n",
        "ctx.verify_mode = ssl.CERT_NONE\n",
        "\n",
        "def retrieve_urls(url, count, position):\n",
        "    if count < 0:\n",
        "        return\n",
        "\n",
        "    print(\"Retrieving:\", url)\n",
        "    html = urllib.request.urlopen(url, context=ctx).read()\n",
        "    soup = BeautifulSoup(html, 'html.parser')\n",
        "\n",
        "    # Retrieve all of the anchor tags\n",
        "    tags = soup('a')\n",
        "\n",
        "    if position > len(tags):\n",
        "        print(\"Invalid position:\", position)\n",
        "        return\n",
        "\n",
        "\n",
        "\n",
        "    next_url = tags[position - 1].get('href')\n",
        "    retrieve_urls(next_url, count - 1, position)\n",
        "\n",
        "# Prompt the user for input\n",
        "url = input(\"Enter URL: \")\n",
        "count = int(input(\"Enter count: \"))\n",
        "position = int(input(\"Enter position: \"))\n",
        "\n",
        "# Call the function to retrieve and print the URLs\n",
        "retrieve_urls(url, count, position)"
      ],
      "metadata": {
        "id": "Vfj2R9OeVaO1",
        "colab": {
          "base_uri": "https://localhost:8080/"
        },
        "outputId": "c93a8ed9-d0eb-4367-b61e-fc82a753b71a"
      },
      "execution_count": null,
      "outputs": [
        {
          "output_type": "stream",
          "name": "stdout",
          "text": [
            "Enter URL: http://py4e-data.dr-chuck.net/known_by_Haris.html\n",
            "Enter count: 7\n",
            "Enter position: 18\n",
            "Retrieving: http://py4e-data.dr-chuck.net/known_by_Haris.html\n",
            "Retrieving: http://py4e-data.dr-chuck.net/known_by_Zulaikha.html\n",
            "Retrieving: http://py4e-data.dr-chuck.net/known_by_Kiara.html\n",
            "Retrieving: http://py4e-data.dr-chuck.net/known_by_Shaurya.html\n",
            "Retrieving: http://py4e-data.dr-chuck.net/known_by_Nodoka.html\n",
            "Retrieving: http://py4e-data.dr-chuck.net/known_by_Sheignneth.html\n",
            "Retrieving: http://py4e-data.dr-chuck.net/known_by_Murdina.html\n",
            "Retrieving: http://py4e-data.dr-chuck.net/known_by_Maude.html\n"
          ]
        }
      ]
    }
  ]
}